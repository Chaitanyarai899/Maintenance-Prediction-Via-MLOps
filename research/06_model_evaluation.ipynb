{
 "cells": [
  {
   "cell_type": "code",
   "execution_count": 1,
   "metadata": {},
   "outputs": [],
   "source": [
    "import os "
   ]
  },
  {
   "cell_type": "code",
   "execution_count": 2,
   "metadata": {},
   "outputs": [
    {
     "data": {
      "text/plain": [
       "'c:\\\\Users\\\\admin\\\\Desktop\\\\Predictive Maintenance\\\\Predictive_Maintenance_With_MLops\\\\research'"
      ]
     },
     "execution_count": 2,
     "metadata": {},
     "output_type": "execute_result"
    }
   ],
   "source": [
    "%pwd"
   ]
  },
  {
   "cell_type": "code",
   "execution_count": 3,
   "metadata": {},
   "outputs": [],
   "source": [
    "os.chdir(\"../\")"
   ]
  },
  {
   "cell_type": "code",
   "execution_count": 4,
   "metadata": {},
   "outputs": [
    {
     "data": {
      "text/plain": [
       "'c:\\\\Users\\\\admin\\\\Desktop\\\\Predictive Maintenance\\\\Predictive_Maintenance_With_MLops'"
      ]
     },
     "execution_count": 4,
     "metadata": {},
     "output_type": "execute_result"
    }
   ],
   "source": [
    "%pwd"
   ]
  },
  {
   "cell_type": "code",
   "execution_count": 5,
   "metadata": {},
   "outputs": [],
   "source": [
    "from dotenv import load_dotenv\n",
    "load_dotenv()\n",
    "MLFLOW_URI = os.getenv(\"MLFLOW_TRACKING_URI\")\n",
    "MLFLOW_USERNAME = os.getenv(\"MLFLOW_TRACKING_USERNAME\")\n",
    "MLFLOW_PASSWORD = os.getenv(\"MLFLOW_TRACKING_PASSWORD\")"
   ]
  },
  {
   "cell_type": "code",
   "execution_count": 12,
   "metadata": {},
   "outputs": [],
   "source": [
    "# define entity \n",
    "\n",
    "from dataclasses import dataclass \n",
    "from pathlib import Path\n",
    "\n",
    "\n",
    "@dataclass(frozen = True)\n",
    "class ModelEvaluationConfig:\n",
    "    root_dir: Path\n",
    "    test_data_path: Path\n",
    "    test_y: Path\n",
    "    model_path: Path\n",
    "    all_params: dict\n",
    "    metric_file_name: Path\n",
    "    target_column: str\n",
    "    mlflow_uri: str"
   ]
  },
  {
   "cell_type": "code",
   "execution_count": 7,
   "metadata": {},
   "outputs": [],
   "source": [
    "from src.Mlflow_Project.constants import *\n",
    "from src.Mlflow_Project.utils.utility import FileOperations"
   ]
  },
  {
   "cell_type": "code",
   "execution_count": 13,
   "metadata": {},
   "outputs": [],
   "source": [
    "class ConfigurationManager:\n",
    "    def __init__(self,\n",
    "                 config_filepath = CONFIG_FILE_PATH,\n",
    "                 params_filepath = PARAMS_FILE_PATH,\n",
    "                 schema_filepath = SCHEMA_FILE_PATH):\n",
    "        \n",
    "        self.config = FileOperations.read_yaml(config_filepath)\n",
    "        self.params = FileOperations.read_yaml(params_filepath)\n",
    "        self.schema = FileOperations.read_yaml(schema_filepath)\n",
    "\n",
    "        FileOperations.create_directories([self.config.artifacts_root])\n",
    "\n",
    "\n",
    "    def get_model_evaluation_config(self) -> ModelEvaluationConfig:\n",
    "            config = self.config.model_evaluation\n",
    "            params = self.params.ElasticNet\n",
    "            schema = self.schema.TARGET_COLUMN\n",
    "\n",
    "\n",
    "            FileOperations.create_directories([config.root_dir])\n",
    "\n",
    "\n",
    "            model_evaluation_config = ModelEvaluationConfig(\n",
    "                 root_dir = config.root_dir,\n",
    "                 test_data_path= config.test_data_path,\n",
    "                 test_y = config.test_y,\n",
    "                 model_path = config.model_path,\n",
    "                 all_params = params,\n",
    "                 metric_file_name = config.metric_file_name,\n",
    "                 target_column= schema.name,\n",
    "                 mlflow_uri= MLFLOW_URI,\n",
    "            )\n",
    "\n",
    "            return model_evaluation_config\n",
    "\n",
    "    "
   ]
  },
  {
   "cell_type": "code",
   "execution_count": 9,
   "metadata": {},
   "outputs": [],
   "source": [
    "# component \n",
    "\n",
    "\n",
    "import os \n",
    "import json\n",
    "from pathlib import Path\n",
    "import pandas as pd \n",
    "from sklearn.metrics import mean_squared_error, mean_absolute_error, r2_score\n",
    "from urllib.parse import urlparse\n",
    "import mlflow \n",
    "import mlflow.sklearn \n",
    "import numpy as np \n",
    "import joblib "
   ]
  },
  {
   "cell_type": "code",
   "execution_count": 25,
   "metadata": {},
   "outputs": [],
   "source": [
    "\n",
    "\n",
    "class ModelEvaluation:\n",
    "    def __init__(self, config: ModelEvaluationConfig):\n",
    "        self.config = config \n",
    "\n",
    "\n",
    "    def eval_metrics(self, actual, pred):\n",
    "        rmse = np.sqrt(mean_squared_error(actual, pred))\n",
    "        mae = mean_absolute_error(actual, pred)\n",
    "        r2 = r2_score(actual, pred)\n",
    "        return rmse, mae, r2 \n",
    "    \n",
    "    def log_into_mlflow(self):\n",
    "\n",
    "        test_data = pd.read_csv(self.config.test_data_path)\n",
    "        test_data.dropna(subset=[self.config.target_column], inplace=True)\n",
    "        test_y = pd.read_csv(self.config.test_y)\n",
    "        #test_y = pd.read_csv(self.config.test_y).values\n",
    "        #print(test_y)\n",
    "\n",
    "\n",
    "        model = joblib.load(self.config.model_path)\n",
    "\n",
    "\n",
    "        test_x = test_data.drop([self.config.target_column], axis = 1)\n",
    "        #test_y = test_data[[self.config.target_column]]\n",
    "\n",
    "        mlflow.set_registry_uri(self.config.mlflow_uri)\n",
    "        tracking_url_type_store = urlparse(mlflow.get_tracking_uri()).scheme\n",
    "\n",
    "        with mlflow.start_run():\n",
    "\n",
    "            predicted_qualities = model.predict(test_x)\n",
    "            print(predicted_qualities)\n",
    "\n",
    "            (rmse, mae, r2) = self.eval_metrics(test_y, predicted_qualities)\n",
    "\n",
    "\n",
    "            # Saving metrics as local \n",
    "            scores = {\"rmse\": rmse, \"mae\": mae, \"r2\": r2}\n",
    "            FileOperations.save_json(path = Path(self.config.metric_file_name), data = scores)\n",
    "\n",
    "\n",
    "            mlflow.log_params(self.config.all_params)\n",
    "\n",
    "            mlflow.log_metric(\"rmse\", rmse)\n",
    "            mlflow.log_metric(\"r2\", r2)\n",
    "            mlflow.log_metric(\"mae\", mae)\n",
    "\n",
    "\n",
    "            # Model registry does not work with file store \n",
    "            if tracking_url_type_store == \"file\":\n",
    "\n",
    "\n",
    "                # Register the model \n",
    "                # There are other ways to use the model registry, which depends on the use case,\n",
    "                # please refer to the doc for more information:\n",
    "                # http://mlflow.org/docs/latest/model-registry-.html#api-workflow\n",
    "                mlflow.sklearn.log_model(model, 'model', registered_model_name= \"ElasticnetModel\")\n",
    "            else:\n",
    "                mlflow.sklearn.log_model(model, \"model\")\n",
    "                \n",
    "\n",
    "            "
   ]
  },
  {
   "cell_type": "code",
   "execution_count": 26,
   "metadata": {},
   "outputs": [
    {
     "name": "stdout",
     "output_type": "stream",
     "text": [
      "[2023-10-31 14:38:15,390: INFO: yaml file: config\\config.yaml loaded successfully]\n",
      "[2023-10-31 14:38:15,393: INFO: yaml file: params.yaml loaded successfully]\n",
      "[2023-10-31 14:38:15,398: INFO: yaml file: schema.yaml loaded successfully]\n",
      "[2023-10-31 14:38:15,409: INFO: created directory at: artifacts]\n",
      "[2023-10-31 14:38:15,411: INFO: created directory at: artifacts/model_evaluation]\n",
      "[104.65851265 106.79422371 105.840662   ... 106.07658514 103.81633247\n",
      " 107.04907942]\n",
      "[2023-10-31 14:38:16,001: INFO: json file saved at: artifacts\\model_evaluation\\metrics.json]\n"
     ]
    },
    {
     "name": "stderr",
     "output_type": "stream",
     "text": [
      "Registered model 'ElasticnetModel' already exists. Creating a new version of this model...\n",
      "2023/10/31 14:38:40 INFO mlflow.tracking._model_registry.client: Waiting up to 300 seconds for model version to finish creation. Model name: ElasticnetModel, version 5\n",
      "Created version '5' of model 'ElasticnetModel'.\n"
     ]
    }
   ],
   "source": [
    "# Initializing my pipeline \n",
    "\n",
    "try:\n",
    "    config = ConfigurationManager()\n",
    "    model_evaluation_config = config.get_model_evaluation_config()\n",
    "    model_evaluation_config = ModelEvaluation(config = model_evaluation_config)\n",
    "    model_evaluation_config.log_into_mlflow()\n",
    "except Exception as e:\n",
    "    \n",
    "    print(\"An error occurred:\", str(e))"
   ]
  },
  {
   "cell_type": "code",
   "execution_count": null,
   "metadata": {},
   "outputs": [],
   "source": []
  }
 ],
 "metadata": {
  "kernelspec": {
   "display_name": ".venv",
   "language": "python",
   "name": "python3"
  },
  "language_info": {
   "codemirror_mode": {
    "name": "ipython",
    "version": 3
   },
   "file_extension": ".py",
   "mimetype": "text/x-python",
   "name": "python",
   "nbconvert_exporter": "python",
   "pygments_lexer": "ipython3",
   "version": "3.11.3"
  }
 },
 "nbformat": 4,
 "nbformat_minor": 2
}
