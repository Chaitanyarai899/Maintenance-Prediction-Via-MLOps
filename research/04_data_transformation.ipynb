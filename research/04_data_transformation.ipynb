{
 "cells": [
  {
   "cell_type": "code",
   "execution_count": 1,
   "metadata": {},
   "outputs": [],
   "source": [
    "import os "
   ]
  },
  {
   "cell_type": "code",
   "execution_count": 2,
   "metadata": {},
   "outputs": [
    {
     "data": {
      "text/plain": [
       "'c:\\\\Users\\\\admin\\\\Desktop\\\\Predictive Maintenance\\\\Predictive_Maintenance_With_MLops\\\\research'"
      ]
     },
     "execution_count": 2,
     "metadata": {},
     "output_type": "execute_result"
    }
   ],
   "source": [
    "%pwd"
   ]
  },
  {
   "cell_type": "code",
   "execution_count": 3,
   "metadata": {},
   "outputs": [],
   "source": [
    "os.chdir(\"../\")"
   ]
  },
  {
   "cell_type": "code",
   "execution_count": 4,
   "metadata": {},
   "outputs": [
    {
     "data": {
      "text/plain": [
       "'c:\\\\Users\\\\admin\\\\Desktop\\\\Predictive Maintenance\\\\Predictive_Maintenance_With_MLops'"
      ]
     },
     "execution_count": 4,
     "metadata": {},
     "output_type": "execute_result"
    }
   ],
   "source": [
    "%pwd"
   ]
  },
  {
   "cell_type": "code",
   "execution_count": 5,
   "metadata": {},
   "outputs": [],
   "source": [
    "import pandas as pd "
   ]
  },
  {
   "cell_type": "code",
   "execution_count": 6,
   "metadata": {},
   "outputs": [
    {
     "data": {
      "text/html": [
       "<div>\n",
       "<style scoped>\n",
       "    .dataframe tbody tr th:only-of-type {\n",
       "        vertical-align: middle;\n",
       "    }\n",
       "\n",
       "    .dataframe tbody tr th {\n",
       "        vertical-align: top;\n",
       "    }\n",
       "\n",
       "    .dataframe thead th {\n",
       "        text-align: right;\n",
       "    }\n",
       "</style>\n",
       "<table border=\"1\" class=\"dataframe\">\n",
       "  <thead>\n",
       "    <tr style=\"text-align: right;\">\n",
       "      <th></th>\n",
       "      <th>engine</th>\n",
       "      <th>cycle</th>\n",
       "      <th>setting_1</th>\n",
       "      <th>setting_2</th>\n",
       "      <th>(LPC outlet temperature) (◦R)</th>\n",
       "      <th>(LPT outlet temperature) (◦R)</th>\n",
       "      <th>(bypass-duct pressure) (psia)</th>\n",
       "      <th>(HPC outlet pressure) (psia)</th>\n",
       "      <th>(Physical core speed) (rpm)</th>\n",
       "      <th>(HPC outlet Static pressure) (psia)</th>\n",
       "      <th>(Ratio of fuel flow to Ps30) (pps/psia)</th>\n",
       "      <th>(Bypass Ratio)</th>\n",
       "      <th>(Bleed Enthalpy)</th>\n",
       "      <th>(High-pressure turbines Cool air flow)</th>\n",
       "      <th>(Low-pressure turbines Cool air flow)</th>\n",
       "      <th>RUL</th>\n",
       "    </tr>\n",
       "  </thead>\n",
       "  <tbody>\n",
       "    <tr>\n",
       "      <th>0</th>\n",
       "      <td>1</td>\n",
       "      <td>2</td>\n",
       "      <td>0.0019</td>\n",
       "      <td>-0.0003</td>\n",
       "      <td>642.15</td>\n",
       "      <td>1403.14</td>\n",
       "      <td>21.61</td>\n",
       "      <td>553.75</td>\n",
       "      <td>9044.07</td>\n",
       "      <td>47.49</td>\n",
       "      <td>522.28</td>\n",
       "      <td>8.4318</td>\n",
       "      <td>392</td>\n",
       "      <td>39.00</td>\n",
       "      <td>23.4236</td>\n",
       "      <td>190</td>\n",
       "    </tr>\n",
       "    <tr>\n",
       "      <th>1</th>\n",
       "      <td>1</td>\n",
       "      <td>3</td>\n",
       "      <td>-0.0043</td>\n",
       "      <td>0.0003</td>\n",
       "      <td>642.35</td>\n",
       "      <td>1404.20</td>\n",
       "      <td>21.61</td>\n",
       "      <td>554.26</td>\n",
       "      <td>9052.94</td>\n",
       "      <td>47.27</td>\n",
       "      <td>522.42</td>\n",
       "      <td>8.4178</td>\n",
       "      <td>390</td>\n",
       "      <td>38.95</td>\n",
       "      <td>23.3442</td>\n",
       "      <td>189</td>\n",
       "    </tr>\n",
       "    <tr>\n",
       "      <th>2</th>\n",
       "      <td>1</td>\n",
       "      <td>4</td>\n",
       "      <td>0.0007</td>\n",
       "      <td>0.0000</td>\n",
       "      <td>642.35</td>\n",
       "      <td>1401.87</td>\n",
       "      <td>21.61</td>\n",
       "      <td>554.45</td>\n",
       "      <td>9049.48</td>\n",
       "      <td>47.13</td>\n",
       "      <td>522.86</td>\n",
       "      <td>8.3682</td>\n",
       "      <td>392</td>\n",
       "      <td>38.88</td>\n",
       "      <td>23.3739</td>\n",
       "      <td>188</td>\n",
       "    </tr>\n",
       "    <tr>\n",
       "      <th>3</th>\n",
       "      <td>1</td>\n",
       "      <td>5</td>\n",
       "      <td>-0.0019</td>\n",
       "      <td>-0.0002</td>\n",
       "      <td>642.37</td>\n",
       "      <td>1406.22</td>\n",
       "      <td>21.61</td>\n",
       "      <td>554.00</td>\n",
       "      <td>9055.15</td>\n",
       "      <td>47.28</td>\n",
       "      <td>522.19</td>\n",
       "      <td>8.4294</td>\n",
       "      <td>393</td>\n",
       "      <td>38.90</td>\n",
       "      <td>23.4044</td>\n",
       "      <td>187</td>\n",
       "    </tr>\n",
       "    <tr>\n",
       "      <th>4</th>\n",
       "      <td>1</td>\n",
       "      <td>6</td>\n",
       "      <td>-0.0043</td>\n",
       "      <td>-0.0001</td>\n",
       "      <td>642.10</td>\n",
       "      <td>1398.37</td>\n",
       "      <td>21.61</td>\n",
       "      <td>554.67</td>\n",
       "      <td>9049.68</td>\n",
       "      <td>47.16</td>\n",
       "      <td>521.68</td>\n",
       "      <td>8.4108</td>\n",
       "      <td>391</td>\n",
       "      <td>38.98</td>\n",
       "      <td>23.3669</td>\n",
       "      <td>186</td>\n",
       "    </tr>\n",
       "  </tbody>\n",
       "</table>\n",
       "</div>"
      ],
      "text/plain": [
       "   engine  cycle  setting_1  setting_2  (LPC outlet temperature) (◦R)  \\\n",
       "0       1      2     0.0019    -0.0003                         642.15   \n",
       "1       1      3    -0.0043     0.0003                         642.35   \n",
       "2       1      4     0.0007     0.0000                         642.35   \n",
       "3       1      5    -0.0019    -0.0002                         642.37   \n",
       "4       1      6    -0.0043    -0.0001                         642.10   \n",
       "\n",
       "   (LPT outlet temperature) (◦R)  (bypass-duct pressure) (psia)  \\\n",
       "0                        1403.14                          21.61   \n",
       "1                        1404.20                          21.61   \n",
       "2                        1401.87                          21.61   \n",
       "3                        1406.22                          21.61   \n",
       "4                        1398.37                          21.61   \n",
       "\n",
       "   (HPC outlet pressure) (psia)  (Physical core speed) (rpm)  \\\n",
       "0                        553.75                      9044.07   \n",
       "1                        554.26                      9052.94   \n",
       "2                        554.45                      9049.48   \n",
       "3                        554.00                      9055.15   \n",
       "4                        554.67                      9049.68   \n",
       "\n",
       "   (HPC outlet Static pressure) (psia)  \\\n",
       "0                                47.49   \n",
       "1                                47.27   \n",
       "2                                47.13   \n",
       "3                                47.28   \n",
       "4                                47.16   \n",
       "\n",
       "   (Ratio of fuel flow to Ps30) (pps/psia)  (Bypass Ratio)   (Bleed Enthalpy)  \\\n",
       "0                                   522.28           8.4318               392   \n",
       "1                                   522.42           8.4178               390   \n",
       "2                                   522.86           8.3682               392   \n",
       "3                                   522.19           8.4294               393   \n",
       "4                                   521.68           8.4108               391   \n",
       "\n",
       "   (High-pressure turbines Cool air flow)  \\\n",
       "0                                   39.00   \n",
       "1                                   38.95   \n",
       "2                                   38.88   \n",
       "3                                   38.90   \n",
       "4                                   38.98   \n",
       "\n",
       "   (Low-pressure turbines Cool air flow)  RUL  \n",
       "0                                23.4236  190  \n",
       "1                                23.3442  189  \n",
       "2                                23.3739  188  \n",
       "3                                23.4044  187  \n",
       "4                                23.3669  186  "
      ]
     },
     "execution_count": 6,
     "metadata": {},
     "output_type": "execute_result"
    }
   ],
   "source": [
    "data = pd.read_csv(\"artifacts/data_cleaning/train.csv\")\n",
    "data.head()"
   ]
  },
  {
   "cell_type": "code",
   "execution_count": 7,
   "metadata": {},
   "outputs": [
    {
     "data": {
      "text/plain": [
       "(20630, 16)"
      ]
     },
     "execution_count": 7,
     "metadata": {},
     "output_type": "execute_result"
    }
   ],
   "source": [
    "data.shape"
   ]
  },
  {
   "cell_type": "code",
   "execution_count": 8,
   "metadata": {},
   "outputs": [],
   "source": [
    "# Updating entity \n",
    "\n",
    "from dataclasses import dataclass \n",
    "from pathlib import Path \n",
    "\n",
    "\n",
    "@dataclass(frozen = True)  \n",
    "class DataTransformationConfig:\n",
    "    root_dir: Path \n",
    "    data_path: Path\n",
    "    scaler_name: str"
   ]
  },
  {
   "cell_type": "code",
   "execution_count": 8,
   "metadata": {},
   "outputs": [
    {
     "data": {
      "text/plain": [
       "engine                                     0\n",
       "cycle                                      0\n",
       "setting_1                                  0\n",
       "setting_2                                  0\n",
       "(LPC outlet temperature) (◦R)              0\n",
       "(LPT outlet temperature) (◦R)              0\n",
       "(bypass-duct pressure) (psia)              0\n",
       "(HPC outlet pressure) (psia)               0\n",
       "(Physical core speed) (rpm)                0\n",
       "(HPC outlet Static pressure) (psia)        0\n",
       "(Ratio of fuel flow to Ps30) (pps/psia)    0\n",
       "(Bypass Ratio)                             0\n",
       "(Bleed Enthalpy)                           0\n",
       "(High-pressure turbines Cool air flow)     0\n",
       "(Low-pressure turbines Cool air flow)      0\n",
       "RUL                                        0\n",
       "dtype: int64"
      ]
     },
     "execution_count": 8,
     "metadata": {},
     "output_type": "execute_result"
    }
   ],
   "source": [
    "data.isnull().sum()"
   ]
  },
  {
   "cell_type": "code",
   "execution_count": 9,
   "metadata": {},
   "outputs": [],
   "source": [
    "from src.Mlflow_Project.constants import *\n",
    "from src.Mlflow_Project.utils.utility import FileOperations"
   ]
  },
  {
   "cell_type": "code",
   "execution_count": 10,
   "metadata": {},
   "outputs": [],
   "source": [
    "class ConfigurationManager:\n",
    "    def __init__(self,\n",
    "                 config_filepath = CONFIG_FILE_PATH,\n",
    "                 params_filepath = PARAMS_FILE_PATH,\n",
    "                 schema_filepath = SCHEMA_FILE_PATH):\n",
    "        \n",
    "        self.config = FileOperations.read_yaml(config_filepath)\n",
    "        self.params = FileOperations.read_yaml(params_filepath)\n",
    "        self.schema = FileOperations.read_yaml(schema_filepath)\n",
    "\n",
    "        FileOperations.create_directories([self.config.artifacts_root])\n",
    "\n",
    "\n",
    "    def get_data_transformation_config(self) -> DataTransformationConfig:\n",
    "            \n",
    "            config = self.config.data_transformation\n",
    "\n",
    "            FileOperations.create_directories([config.root_dir])\n",
    "\n",
    "            data_transformation_config = DataTransformationConfig(\n",
    "                 root_dir = config.root_dir,\n",
    "                 data_path = config.data_path,\n",
    "                 scaler_name = config.scaler_name,\n",
    "\n",
    "            )\n",
    "            \n",
    "            return data_transformation_config\n",
    "    "
   ]
  },
  {
   "cell_type": "code",
   "execution_count": 11,
   "metadata": {},
   "outputs": [],
   "source": [
    "import joblib \n",
    "from src.Mlflow_Project.__init__ import logger \n",
    "from sklearn.model_selection import train_test_split \n",
    "from sklearn.preprocessing import StandardScaler\n"
   ]
  },
  {
   "cell_type": "code",
   "execution_count": 12,
   "metadata": {},
   "outputs": [
    {
     "ename": "NameError",
     "evalue": "name 'DataTransformationConfig' is not defined",
     "output_type": "error",
     "traceback": [
      "\u001b[1;31m---------------------------------------------------------------------------\u001b[0m",
      "\u001b[1;31mNameError\u001b[0m                                 Traceback (most recent call last)",
      "\u001b[1;32mc:\\Users\\admin\\Desktop\\Predictive Maintenance\\Predictive_Maintenance_With_MLops\\research\\04_data_transformation.ipynb Cell 13\u001b[0m line \u001b[0;36m1\n\u001b[1;32m----> <a href='vscode-notebook-cell:/c%3A/Users/admin/Desktop/Predictive%20Maintenance/Predictive_Maintenance_With_MLops/research/04_data_transformation.ipynb#X14sZmlsZQ%3D%3D?line=0'>1</a>\u001b[0m \u001b[39mclass\u001b[39;49;00m \u001b[39mDataTransformation\u001b[39;49;00m:\n\u001b[0;32m      <a href='vscode-notebook-cell:/c%3A/Users/admin/Desktop/Predictive%20Maintenance/Predictive_Maintenance_With_MLops/research/04_data_transformation.ipynb#X14sZmlsZQ%3D%3D?line=1'>2</a>\u001b[0m     \u001b[39mdef\u001b[39;49;00m \u001b[39m__init__\u001b[39;49m(\u001b[39mself\u001b[39;49m, config: DataTransformationConfig):\n\u001b[0;32m      <a href='vscode-notebook-cell:/c%3A/Users/admin/Desktop/Predictive%20Maintenance/Predictive_Maintenance_With_MLops/research/04_data_transformation.ipynb#X14sZmlsZQ%3D%3D?line=2'>3</a>\u001b[0m         \u001b[39mself\u001b[39;49m\u001b[39m.\u001b[39;49mconfig \u001b[39m=\u001b[39;49m config\n",
      "\u001b[1;32mc:\\Users\\admin\\Desktop\\Predictive Maintenance\\Predictive_Maintenance_With_MLops\\research\\04_data_transformation.ipynb Cell 13\u001b[0m line \u001b[0;36m2\n\u001b[0;32m      <a href='vscode-notebook-cell:/c%3A/Users/admin/Desktop/Predictive%20Maintenance/Predictive_Maintenance_With_MLops/research/04_data_transformation.ipynb#X14sZmlsZQ%3D%3D?line=0'>1</a>\u001b[0m \u001b[39mclass\u001b[39;00m \u001b[39mDataTransformation\u001b[39;00m:\n\u001b[1;32m----> <a href='vscode-notebook-cell:/c%3A/Users/admin/Desktop/Predictive%20Maintenance/Predictive_Maintenance_With_MLops/research/04_data_transformation.ipynb#X14sZmlsZQ%3D%3D?line=1'>2</a>\u001b[0m     \u001b[39mdef\u001b[39;00m \u001b[39m__init__\u001b[39m(\u001b[39mself\u001b[39m, config: DataTransformationConfig):\n\u001b[0;32m      <a href='vscode-notebook-cell:/c%3A/Users/admin/Desktop/Predictive%20Maintenance/Predictive_Maintenance_With_MLops/research/04_data_transformation.ipynb#X14sZmlsZQ%3D%3D?line=2'>3</a>\u001b[0m         \u001b[39mself\u001b[39m\u001b[39m.\u001b[39mconfig \u001b[39m=\u001b[39m config\n\u001b[0;32m      <a href='vscode-notebook-cell:/c%3A/Users/admin/Desktop/Predictive%20Maintenance/Predictive_Maintenance_With_MLops/research/04_data_transformation.ipynb#X14sZmlsZQ%3D%3D?line=5'>6</a>\u001b[0m     \u001b[39m## Note: You can add different data transformtion techniques such as Scaler, PCA and all \u001b[39;00m\n\u001b[0;32m      <a href='vscode-notebook-cell:/c%3A/Users/admin/Desktop/Predictive%20Maintenance/Predictive_Maintenance_With_MLops/research/04_data_transformation.ipynb#X14sZmlsZQ%3D%3D?line=6'>7</a>\u001b[0m     \u001b[39m# You can perform all kinds of EDA in ML cycle here before passing this data to the model \u001b[39;00m\n\u001b[0;32m      <a href='vscode-notebook-cell:/c%3A/Users/admin/Desktop/Predictive%20Maintenance/Predictive_Maintenance_With_MLops/research/04_data_transformation.ipynb#X14sZmlsZQ%3D%3D?line=7'>8</a>\u001b[0m \n\u001b[0;32m      <a href='vscode-notebook-cell:/c%3A/Users/admin/Desktop/Predictive%20Maintenance/Predictive_Maintenance_With_MLops/research/04_data_transformation.ipynb#X14sZmlsZQ%3D%3D?line=8'>9</a>\u001b[0m     \u001b[39m# defining train test split method \u001b[39;00m\n",
      "\u001b[1;31mNameError\u001b[0m: name 'DataTransformationConfig' is not defined"
     ]
    }
   ],
   "source": [
    "\n",
    "class DataTransformation:\n",
    "    def __init__(self, config: DataTransformationConfig):\n",
    "        self.config = config\n",
    "\n",
    "\n",
    "    ## Note: You can add different data transformtion techniques such as Scaler, PCA and all \n",
    "    # You can perform all kinds of EDA in ML cycle here before passing this data to the model \n",
    "\n",
    "    # defining train test split method \n",
    "\n",
    "    def train_test_split(self):\n",
    "        data = pd.read_csv(self.config.data_path)\n",
    "\n",
    "        train, test = train_test_split(data, test_size=0.25, random_state=42)  \n",
    "\n",
    "        # Separate the target variable (RUL) from the input features in the training and test datasets\n",
    "        X_train = train.drop(columns=[\"RUL\"])\n",
    "        y_train = train[\"RUL\"]\n",
    "        X_test = test.drop(columns=[\"RUL\"])\n",
    "        y_test = test[\"RUL\"]\n",
    "\n",
    "        # Fit scaler on training data\n",
    "        scaler = StandardScaler()\n",
    "        X_train_scaled = scaler.fit_transform(X_train)\n",
    "        logger.info(\"train scaling done..!!\")\n",
    "\n",
    "        \n",
    "        X_test_scaled = scaler.transform(X_test)\n",
    "        logger.info(\"test data transform done...!!\")\n",
    "\n",
    "        train_scaled_df = pd.DataFrame(X_train_scaled, columns= X_train.columns)\n",
    "        test_scaled_df = pd.DataFrame(X_test_scaled, columns = X_test.columns)\n",
    "\n",
    "        # Adding new column RUL to the scaled datasets \n",
    "        train_scaled_df[\"RUL\"] = y_train\n",
    "        test_scaled_df[\"RUL\"] = y_test\n",
    "\n",
    "        \n",
    "\n",
    "        # Save the scaled datasets and target variables\n",
    "        train_scaled_df.to_csv(os.path.join(self.config.root_dir, \"train_scaled.csv\"), index=False)\n",
    "        test_scaled_df.to_csv(os.path.join(self.config.root_dir, \"test_scaled.csv\"), index=False)\n",
    "\n",
    "\n",
    "        joblib.dump(scaler, os.path.join(self.config.root_dir, self.config.scaler_name))\n",
    "\n",
    "        \n",
    "        logger.info(\"Splitted data into train and test\")\n",
    "        logger.info(train.shape)\n",
    "        logger.info(test.shape)\n",
    "\n",
    "\n",
    "        print(train.shape)\n",
    "        print(test.shape)\n",
    "\n",
    "        \n",
    "        "
   ]
  },
  {
   "cell_type": "code",
   "execution_count": 13,
   "metadata": {},
   "outputs": [
    {
     "name": "stdout",
     "output_type": "stream",
     "text": [
      "[2023-10-31 10:16:04,532: INFO: yaml file: config\\config.yaml loaded successfully]\n",
      "[2023-10-31 10:16:04,536: INFO: yaml file: params.yaml loaded successfully]\n",
      "[2023-10-31 10:16:04,544: INFO: yaml file: schema.yaml loaded successfully]\n",
      "[2023-10-31 10:16:04,548: INFO: created directory at: artifacts]\n",
      "[2023-10-31 10:16:04,551: INFO: created directory at: artifacts/data_transformation]\n",
      "[2023-10-31 10:16:04,701: INFO: train scaling done..!!]\n",
      "[2023-10-31 10:16:04,709: INFO: test data transform done...!!]\n",
      "[2023-10-31 10:16:08,034: INFO: Splitted data into train and test]\n",
      "[2023-10-31 10:16:08,036: INFO: (15472, 16)]\n",
      "[2023-10-31 10:16:08,042: INFO: (5158, 16)]\n",
      "(15472, 16)\n",
      "(5158, 16)\n"
     ]
    }
   ],
   "source": [
    "try:\n",
    "    config = ConfigurationManager()\n",
    "    data_transformation_config = config.get_data_transformation_config()\n",
    "    data_transformation = DataTransformation(config=data_transformation_config)  \n",
    "    data_transformation.train_test_split()  # Call the correct method here\n",
    "except Exception as e:\n",
    "    print(\"An error occurred:\", str(e))\n"
   ]
  },
  {
   "cell_type": "code",
   "execution_count": 41,
   "metadata": {},
   "outputs": [],
   "source": []
  },
  {
   "cell_type": "code",
   "execution_count": null,
   "metadata": {},
   "outputs": [],
   "source": []
  },
  {
   "cell_type": "code",
   "execution_count": null,
   "metadata": {},
   "outputs": [],
   "source": []
  }
 ],
 "metadata": {
  "kernelspec": {
   "display_name": ".venv",
   "language": "python",
   "name": "python3"
  },
  "language_info": {
   "codemirror_mode": {
    "name": "ipython",
    "version": 3
   },
   "file_extension": ".py",
   "mimetype": "text/x-python",
   "name": "python",
   "nbconvert_exporter": "python",
   "pygments_lexer": "ipython3",
   "version": "3.11.3"
  },
  "orig_nbformat": 4
 },
 "nbformat": 4,
 "nbformat_minor": 2
}
