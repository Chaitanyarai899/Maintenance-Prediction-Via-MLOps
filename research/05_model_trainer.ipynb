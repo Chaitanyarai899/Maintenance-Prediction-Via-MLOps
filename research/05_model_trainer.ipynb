{
 "cells": [
  {
   "cell_type": "code",
   "execution_count": 2,
   "metadata": {},
   "outputs": [],
   "source": [
    "import os "
   ]
  },
  {
   "cell_type": "code",
   "execution_count": 3,
   "metadata": {},
   "outputs": [
    {
     "data": {
      "text/plain": [
       "'c:\\\\Users\\\\admin\\\\Desktop\\\\Predictive Maintenance\\\\Predictive_Maintenance_With_MLops\\\\research'"
      ]
     },
     "execution_count": 3,
     "metadata": {},
     "output_type": "execute_result"
    }
   ],
   "source": [
    "%pwd"
   ]
  },
  {
   "cell_type": "code",
   "execution_count": 4,
   "metadata": {},
   "outputs": [],
   "source": [
    "os.chdir(\"../\")"
   ]
  },
  {
   "cell_type": "code",
   "execution_count": 5,
   "metadata": {},
   "outputs": [
    {
     "data": {
      "text/plain": [
       "'c:\\\\Users\\\\admin\\\\Desktop\\\\Predictive Maintenance\\\\Predictive_Maintenance_With_MLops'"
      ]
     },
     "execution_count": 5,
     "metadata": {},
     "output_type": "execute_result"
    }
   ],
   "source": [
    "%pwd"
   ]
  },
  {
   "cell_type": "code",
   "execution_count": 6,
   "metadata": {},
   "outputs": [],
   "source": [
    "# entity \n",
    "\n",
    "from dataclasses import dataclass \n",
    "from pathlib import Path \n",
    "\n",
    "\n",
    "\n",
    "@dataclass(frozen = True)\n",
    "class ModelTrainerConfig:\n",
    "    root_dir: Path \n",
    "    train_data_path: Path \n",
    "    test_data_path: Path\n",
    "    model_name: str\n",
    "    imputer_name: str\n",
    "    alpha: float\n",
    "    l1_ratio: float\n",
    "    target_column: str  \n",
    "\n",
    "    \n",
    "    "
   ]
  },
  {
   "cell_type": "code",
   "execution_count": 7,
   "metadata": {},
   "outputs": [],
   "source": [
    "from src.Mlflow_Project.constants import *\n",
    "from src.Mlflow_Project.utils.utility import FileOperations"
   ]
  },
  {
   "cell_type": "code",
   "execution_count": 8,
   "metadata": {},
   "outputs": [],
   "source": [
    "# configuration\n",
    "class ConfigurationManager:\n",
    "    def __init__(self,\n",
    "                 config_filepath = CONFIG_FILE_PATH,\n",
    "                 params_filepath = PARAMS_FILE_PATH,\n",
    "                 schema_filepath = SCHEMA_FILE_PATH):\n",
    "        \n",
    "        self.config = FileOperations.read_yaml(config_filepath)\n",
    "        self.params = FileOperations.read_yaml(params_filepath)\n",
    "        self.schema = FileOperations.read_yaml(schema_filepath)\n",
    "\n",
    "        FileOperations.create_directories([self.config.artifacts_root])\n",
    "\n",
    "\n",
    "    def get_model_trainer_config(self) -> ModelTrainerConfig:\n",
    "        config = self.config.model_trainer\n",
    "        params = self.params.ElasticNet\n",
    "        schema = self.schema.TARGET_COLUMN\n",
    "\n",
    "\n",
    "        FileOperations.create_directories([config.root_dir])\n",
    "\n",
    "        model_trainer_config = ModelTrainerConfig(\n",
    "            root_dir=config.root_dir,\n",
    "            train_data_path = config.train_data_path,\n",
    "            test_data_path = config.test_data_path,\n",
    "            model_name = config.model_name,\n",
    "            imputer_name= config.imputer_name,\n",
    "            alpha = params.alpha,\n",
    "            l1_ratio = params.l1_ratio,\n",
    "            target_column = schema.name\n",
    "\n",
    "        )\n",
    "\n",
    "        return model_trainer_config"
   ]
  },
  {
   "cell_type": "code",
   "execution_count": 9,
   "metadata": {},
   "outputs": [],
   "source": [
    "# defining component\n",
    "\n",
    "import pandas as pd\n",
    "import os \n",
    "from src.Mlflow_Project.__init__ import logger \n",
    "from sklearn.linear_model import ElasticNet\n",
    "from sklearn.impute import SimpleImputer\n",
    "import joblib "
   ]
  },
  {
   "cell_type": "code",
   "execution_count": 22,
   "metadata": {},
   "outputs": [],
   "source": [
    "# components \n",
    "\n",
    "class ModelTrainer:\n",
    "    def __init__(self, config):\n",
    "        self.config = config\n",
    "\n",
    "    def train(self):\n",
    "        train_data = pd.read_csv(self.config.train_data_path)\n",
    "        test_data = pd.read_csv(self.config.test_data_path)\n",
    "\n",
    "        # Drop rows with missing values in the target column\n",
    "        train_data.dropna(subset=[self.config.target_column], inplace=True)\n",
    "        test_data.dropna(subset=[self.config.target_column], inplace=True)\n",
    "\n",
    "        train_x = train_data.drop([self.config.target_column], axis=1)\n",
    "        test_x = test_data.drop([self.config.target_column], axis=1)\n",
    "        train_y = train_data[[self.config.target_column]]\n",
    "\n",
    "        # Create an imputer to fill missing values with a specific strategy (e.g., mean or median)\n",
    "        imputer = SimpleImputer(strategy='mean')\n",
    "\n",
    "        # Fit the imputer on the training data and transform the test data\n",
    "        train_y_impute = imputer.fit_transform(train_y)\n",
    "        test_y = imputer.transform(test_data[[self.config.target_column]].values.reshape(-1, 1))\n",
    "\n",
    "        lr = ElasticNet(alpha=self.config.alpha, l1_ratio=self.config.l1_ratio, random_state=42)\n",
    "        lr.fit(train_x, train_y_impute)\n",
    "\n",
    "        test_x = pd.DataFrame(test_x, columns=test_x.columns)\n",
    "        test_y = pd.DataFrame(test_y, columns=[self.config.target_column])\n",
    "\n",
    "        # Save the scaled datasets and target variables\n",
    "        test_x.to_csv(os.path.join(self.config.root_dir, \"test_x.csv\"), index=False)\n",
    "        test_y.to_csv(os.path.join(self.config.root_dir, \"test_y.csv\"), index=False)\n",
    "\n",
    "        joblib.dump(lr, os.path.join(self.config.root_dir, self.config.model_name))\n",
    "        joblib.dump(imputer, os.path.join(self.config.root_dir, self.config.imputer_name))\n"
   ]
  },
  {
   "cell_type": "code",
   "execution_count": 23,
   "metadata": {},
   "outputs": [
    {
     "name": "stdout",
     "output_type": "stream",
     "text": [
      "[2023-10-31 14:05:58,064: INFO: yaml file: config\\config.yaml loaded successfully]\n",
      "[2023-10-31 14:05:58,069: INFO: yaml file: params.yaml loaded successfully]\n",
      "[2023-10-31 14:05:58,079: INFO: yaml file: schema.yaml loaded successfully]\n",
      "[2023-10-31 14:05:58,082: INFO: created directory at: artifacts]\n",
      "[2023-10-31 14:05:58,085: INFO: created directory at: artifacts/model_trainer]\n"
     ]
    },
    {
     "name": "stderr",
     "output_type": "stream",
     "text": [
      "c:\\Users\\admin\\Desktop\\Predictive Maintenance\\Predictive_Maintenance_With_MLops\\.venv\\Lib\\site-packages\\sklearn\\base.py:465: UserWarning: X does not have valid feature names, but SimpleImputer was fitted with feature names\n",
      "  warnings.warn(\n"
     ]
    }
   ],
   "source": [
    "# Defining Pipeline \n",
    "\n",
    "try:\n",
    "    config = ConfigurationManager()\n",
    "    model_trainer_config = config.get_model_trainer_config()\n",
    "    model_trainer_config = ModelTrainer(config = model_trainer_config)\n",
    "    model_trainer_config.train()\n",
    "except Exception as e:\n",
    "    print(\"An error occurred:\", e)"
   ]
  },
  {
   "cell_type": "markdown",
   "metadata": {},
   "source": []
  },
  {
   "cell_type": "code",
   "execution_count": null,
   "metadata": {},
   "outputs": [],
   "source": []
  }
 ],
 "metadata": {
  "kernelspec": {
   "display_name": ".venv",
   "language": "python",
   "name": "python3"
  },
  "language_info": {
   "codemirror_mode": {
    "name": "ipython",
    "version": 3
   },
   "file_extension": ".py",
   "mimetype": "text/x-python",
   "name": "python",
   "nbconvert_exporter": "python",
   "pygments_lexer": "ipython3",
   "version": "3.11.3"
  }
 },
 "nbformat": 4,
 "nbformat_minor": 2
}
